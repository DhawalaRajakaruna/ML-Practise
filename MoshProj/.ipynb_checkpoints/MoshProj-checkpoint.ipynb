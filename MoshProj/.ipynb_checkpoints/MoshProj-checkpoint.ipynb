{
 "cells": [
  {
   "cell_type": "code",
   "execution_count": 20,
   "id": "bbe4f366-6bfb-49de-9a88-768c74f24326",
   "metadata": {
    "scrolled": true
   },
   "outputs": [
    {
     "data": {
      "text/plain": [
       "array(['HipHop', 'Dance'], dtype=object)"
      ]
     },
     "execution_count": 20,
     "metadata": {},
     "output_type": "execute_result"
    }
   ],
   "source": [
    "import pandas as pd\n",
    "from sklearn.tree import DecisionTreeClassifier #for learning and training part\n",
    "\n",
    "#importing data\n",
    "Music_Data=pd.read_csv('music.csv')\n",
    "\n",
    "#Cleaning data or preparing data(Not cleaning happend below)\n",
    "X=Music_Data.drop(columns=['genre']) #this male an new data set by dropping 'genre' column input data set\n",
    "Y=Music_Data['genre']\n",
    "\n",
    "#training and testing\n",
    "model=DecisionTreeClassifier()\n",
    "model.fit(X,Y)#let the model to leran about the input data set\n",
    "prediction_Input=pd.DataFrame([[21,1],[22,0]],columns=['age','gender'])\n",
    "prediction=model.predict(prediction_Input)\n",
    "prediction\n",
    "\n",
    "#In this case we use the whole data set to train the model and make the predicttions so thats not the correct way of doing\n",
    "#We have to split data into training and testing and have to see the accuracy\n",
    "\n",
    "\n",
    "\n",
    "\n"
   ]
  },
  {
   "cell_type": "code",
   "execution_count": 21,
   "id": "4ea690a3-13ad-4a43-819a-34b916065ca6",
   "metadata": {
    "scrolled": true
   },
   "outputs": [],
   "source": [
    "import pandas as pd\n",
    "from sklearn.tree import DecisionTreeClassifier #for learning and training part\n",
    "from sklearn.model_selection import train_test_split\n",
    "\n",
    "#importing data\n",
    "Music_Data=pd.read_csv('music.csv')\n",
    "\n",
    "#Cleaning data or preparing data(Not cleaning happend below)\n",
    "X=Music_Data.drop(columns=['genre']) #this male an new data set by dropping 'genre' column input data set\n",
    "Y=Music_Data['genre']\n",
    "\n",
    "#Defining the training and testiong data\n",
    "X_train,X_test,Y_train,Y_test=train_test_split(X,Y,test_size=0.2)#define the test data size as 20% of the whole data\n",
    "#X_traig,Y_train :- use to train the model\n",
    "#X_test :- use to test the model \n",
    "#Y_test :- use to check the accuracy of the model using these actual data\n",
    "\n",
    "#training and testing\n",
    "model=DecisionTreeClassifier()\n",
    "model.fit(X_train,Y_traing)#model use these data sets to train\n",
    "prediction=model.predict(X_test)#giving the data set to model to test \n",
    "\n",
    "\n",
    "\n",
    "\n",
    "\n"
   ]
  },
  {
   "cell_type": "code",
   "execution_count": null,
   "id": "334733c5-e6f6-48be-b2c9-0de1df4139b4",
   "metadata": {},
   "outputs": [],
   "source": []
  }
 ],
 "metadata": {
  "kernelspec": {
   "display_name": "Python 3 (ipykernel)",
   "language": "python",
   "name": "python3"
  },
  "language_info": {
   "codemirror_mode": {
    "name": "ipython",
    "version": 3
   },
   "file_extension": ".py",
   "mimetype": "text/x-python",
   "name": "python",
   "nbconvert_exporter": "python",
   "pygments_lexer": "ipython3",
   "version": "3.12.1"
  }
 },
 "nbformat": 4,
 "nbformat_minor": 5
}
