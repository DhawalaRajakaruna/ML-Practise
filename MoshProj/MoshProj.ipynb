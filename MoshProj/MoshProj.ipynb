{
 "cells": [
  {
   "cell_type": "code",
   "execution_count": 20,
   "id": "bbe4f366-6bfb-49de-9a88-768c74f24326",
   "metadata": {
    "scrolled": true
   },
   "outputs": [
    {
     "data": {
      "text/plain": [
       "array(['HipHop', 'Dance'], dtype=object)"
      ]
     },
     "execution_count": 20,
     "metadata": {},
     "output_type": "execute_result"
    }
   ],
   "source": [
    "import pandas as pd\n",
    "from sklearn.tree import DecisionTreeClassifier #for learning and training part\n",
    "\n",
    "#importing data\n",
    "Music_Data=pd.read_csv('music.csv')\n",
    "\n",
    "#Cleaning data or preparing data(Not cleaning happend below)\n",
    "X=Music_Data.drop(columns=['genre']) #this male an new data set by dropping 'genre' column input data set\n",
    "Y=Music_Data['genre']#making a data column with 'genre'\n",
    "\n",
    "#training and testing\n",
    "model=DecisionTreeClassifier()\n",
    "model.fit(X,Y)#let the model to leran about the input data set\n",
    "prediction_Input=pd.DataFrame([[21,1],[22,0]],columns=['age','gender'])\n",
    "prediction=model.predict(prediction_Input)\n",
    "prediction\n",
    "\n",
    "#In this case we use the whole data set to train the model and make the predicttions so thats not the correct way of doing\n",
    "#We have to split data into training and testing and have to see the accuracy\n",
    "\n",
    "\n",
    "\n",
    "\n"
   ]
  },
  {
   "cell_type": "code",
   "execution_count": 27,
   "id": "4ea690a3-13ad-4a43-819a-34b916065ca6",
   "metadata": {
    "scrolled": true
   },
   "outputs": [
    {
     "data": {
      "text/plain": [
       "0.75"
      ]
     },
     "execution_count": 27,
     "metadata": {},
     "output_type": "execute_result"
    }
   ],
   "source": [
    "import pandas as pd\n",
    "from sklearn.tree import DecisionTreeClassifier #for learning and training part\n",
    "from sklearn.model_selection import train_test_split#need to import to split the data set into train and test data\n",
    "from sklearn.metrics import accuracy_score\n",
    "\n",
    "#importing data\n",
    "Music_Data=pd.read_csv('music.csv')\n",
    "\n",
    "#Cleaning data or preparing data(Not cleaning happend below)\n",
    "X=Music_Data.drop(columns=['genre']) #this male an new data set by dropping 'genre' column input data set\n",
    "Y=Music_Data['genre']#making a data column with 'genre'\n",
    "\n",
    "#Defining the training and testiong data\n",
    "X_train,X_test,Y_train,Y_test=train_test_split(X,Y,test_size=0.2)#define the test data size as 20% of the whole data\n",
    "#X_traig,Y_train :- use to train the model\n",
    "#X_test :- use to test the model \n",
    "#Y_test :- use to check the accuracy of the model using these actual data\n",
    "\n",
    "#training and testing\n",
    "model=DecisionTreeClassifier()\n",
    "model.fit(X_train,Y_train)#model use these data sets to train\n",
    "prediction=model.predict(X_test)#giving the data set to model to test \n",
    "\n",
    "#Checking the accuracy of the model\n",
    "score=accuracy_score(Y_test,prediction)#gives the accuracy of the data with the real data and predictions\n",
    "score\n",
    "\n",
    "\n",
    "\n",
    "\n"
   ]
  },
  {
   "cell_type": "code",
   "execution_count": 44,
   "id": "334733c5-e6f6-48be-b2c9-0de1df4139b4",
   "metadata": {},
   "outputs": [
    {
     "data": {
      "text/plain": [
       "['music-recommender.joblib']"
      ]
     },
     "execution_count": 44,
     "metadata": {},
     "output_type": "execute_result"
    }
   ],
   "source": [
    "import pandas as pd\n",
    "from sklearn.tree import DecisionTreeClassifier #for learning and training part\n",
    "import joblib  # Importing joblib directly#Has methods of saving and loading models\n",
    "\n",
    "#importing data\n",
    "Music_Data=pd.read_csv('music.csv')\n",
    "\n",
    "#Cleaning data or preparing data(Not cleaning happend below)\n",
    "X=Music_Data.drop(columns=['genre']) #this male an new data set by dropping 'genre' column input data set\n",
    "Y=Music_Data['genre']#making a data column with 'genre'\n",
    "\n",
    "#training and testing\n",
    "model=DecisionTreeClassifier()\n",
    "model.fit(X,Y)#let the model to leran about the input data set\n",
    "\n",
    "joblib.dump(model, 'music-recommender.joblib') #use to save the trained modl in a file\n",
    "#then the model save as a file in the directory \n",
    "\n",
    "#      !!!!!! Now no deed to train the modl again and again    !!!!!!!\n"
   ]
  },
  {
   "cell_type": "code",
   "execution_count": 46,
   "id": "e47212fc-480c-45f2-8351-c90d427d46d4",
   "metadata": {},
   "outputs": [
    {
     "name": "stderr",
     "output_type": "stream",
     "text": [
      "C:\\Users\\94701\\AppData\\Local\\Programs\\Python\\Python312\\Lib\\site-packages\\sklearn\\base.py:493: UserWarning: X does not have valid feature names, but DecisionTreeClassifier was fitted with feature names\n",
      "  warnings.warn(\n"
     ]
    },
    {
     "data": {
      "text/plain": [
       "array(['HipHop'], dtype=object)"
      ]
     },
     "execution_count": 46,
     "metadata": {},
     "output_type": "execute_result"
    }
   ],
   "source": [
    "import pandas as pd\n",
    "from sklearn.tree import DecisionTreeClassifier #for learning and training part\n",
    "import joblib  # Importing joblib directly #Has methods of saving and loading models\n",
    "\n",
    "model=joblib.load('music-recommender.joblib') #can use this to load the module to make predictions \n",
    "prediction=model.predict([[21,1]])\n",
    "prediction"
   ]
  },
  {
   "cell_type": "code",
   "execution_count": 48,
   "id": "4487ed71-19cc-42fc-b058-d4892ba28aa5",
   "metadata": {},
   "outputs": [],
   "source": [
    "import pandas as pd\n",
    "from sklearn.tree import DecisionTreeClassifier #for learning and training part\n",
    "from sklearn import tree\n",
    "\n",
    "#importing data\n",
    "Music_Data=pd.read_csv('music.csv')\n",
    "\n",
    "#Cleaning data or preparing data(Not cleaning happend below)\n",
    "X=Music_Data.drop(columns=['genre']) #this male an new data set by dropping 'genre' column input data set\n",
    "Y=Music_Data['genre']#making a data column with 'genre'\n",
    "\n",
    "#training and testing\n",
    "model=DecisionTreeClassifier()\n",
    "model.fit(X,Y)#let the model to leran about the input data set\n",
    "\n",
    "tree.export_graphviz(model,'music-recommender.dot',\n",
    "                    feature_names=['age','gender'],\n",
    "                    class_names=sorted(Y.unique()),#use to get the class names in Y \n",
    "                    label='all',                     #use unique method to get one name at a time since it is repeated\n",
    "                    rounded=True,\n",
    "                    filled=True) "
   ]
  },
  {
   "cell_type": "code",
   "execution_count": null,
   "id": "4dda05ba-77e9-4c55-9584-29ef228c91dc",
   "metadata": {},
   "outputs": [],
   "source": []
  }
 ],
 "metadata": {
  "kernelspec": {
   "display_name": "Python 3 (ipykernel)",
   "language": "python",
   "name": "python3"
  },
  "language_info": {
   "codemirror_mode": {
    "name": "ipython",
    "version": 3
   },
   "file_extension": ".py",
   "mimetype": "text/x-python",
   "name": "python",
   "nbconvert_exporter": "python",
   "pygments_lexer": "ipython3",
   "version": "3.12.1"
  }
 },
 "nbformat": 4,
 "nbformat_minor": 5
}
